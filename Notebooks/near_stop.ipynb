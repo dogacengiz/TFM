{
  "nbformat": 4,
  "nbformat_minor": 0,
  "metadata": {
    "colab": {
      "name": "near_stop.ipynb",
      "provenance": []
    },
    "kernelspec": {
      "name": "python3",
      "display_name": "Python 3"
    },
    "language_info": {
      "name": "python"
    }
  },
  "cells": [
    {
      "cell_type": "code",
      "execution_count": null,
      "metadata": {
        "id": "7L843BCq24pY"
      },
      "outputs": [],
      "source": [
        "import pandas as pd\n",
        "import numba as nb\n",
        "import numpy as np\n",
        "import csv"
      ]
    },
    {
      "cell_type": "code",
      "source": [
        "@nb.njit(fastmath=True, parallel=True, error_model='numpy')\n",
        "def find_near_stops(lat, lon, stopID):\n",
        "\n",
        "    nearStopFullList = []\n",
        "    for stops in nb.prange(len(stopID)):\n",
        "        stopsList = []\n",
        "        nearStopList = []\n",
        "        rowList = []\n",
        "        stopsList.append(stopID[stops])\n",
        "        rowList.append(stopsList)\n",
        "\n",
        "        for near_stops in nb.prange(len(stopID)):\n",
        "            lon1 = np.radians(lon[near_stops])\n",
        "            lon2 = np.radians(lon[stops])\n",
        "            lat1 = np.radians(lat[near_stops])\n",
        "            lat2 = np.radians(lat[stops])\n",
        "\n",
        "            dlon = lon2 - lon1\n",
        "            dlat = lat2 - lat1\n",
        "            a = np.sin(dlat / 2) ** 2 + np.cos(lat1) * np.cos(lat2) * np.sin(dlon / 2) ** 2\n",
        "            c = 2 * np.arcsin(np.sqrt(a))\n",
        "            r = 6371000\n",
        "            distance = c * r\n",
        "\n",
        "            if distance < 650 and (stopID[near_stops] != stopID[stops]):\n",
        "                nearStopList.append(stopID[near_stops])\n",
        "\n",
        "        rowList.append(nearStopList)\n",
        "\n",
        "        nearStopFullList.append(rowList)\n",
        "    return nearStopFullList\n",
        "\n",
        "\n",
        "railStopDf = pd.read_csv('stationInfo.csv', usecols=['LATITUD', 'LONGITUD', 'DPAYPOINT', 'DENOMINAPARADA'])\\\n",
        "    .drop_duplicates(subset=['LATITUD', 'LONGITUD'], keep=\"first\")\n",
        "railStopDf['type'] = 'rail'\n",
        "\n",
        "busStopDf = pd.read_csv('stopInfo.csv', usecols=['LATITUD', 'LONGITUD', 'DPAYPOINT', 'IDLINEA'])\n",
        "busStopDf = busStopDf[busStopDf['IDLINEA'].notna()]\n",
        "busStopDf['type'] = 'bus'\n",
        "\n",
        "allUniqueStopDf = pd.concat([railStopDf, busStopDf], ignore_index=True)\\\n",
        "    .drop_duplicates(subset=['LATITUD','LONGITUD', 'type'], keep=\"first\")\n",
        "allUniqueStopDf = allUniqueStopDf.reset_index(drop=True)\n",
        "allUniqueStopDf['IDSTOP'] = allUniqueStopDf.index\n",
        "\n"
      ],
      "metadata": {
        "id": "crOnt26725ql"
      },
      "execution_count": null,
      "outputs": []
    },
    {
      "cell_type": "code",
      "source": [
        "near_stops = find_near_stops(allUniqueStopDf['LATITUD'].values,\n",
        "                               allUniqueStopDf['LONGITUD'].values,\n",
        "                               allUniqueStopDf['IDSTOP'].values.astype('float64'))\n",
        "\n"
      ],
      "metadata": {
        "id": "h3Ehneu63Fx7"
      },
      "execution_count": null,
      "outputs": []
    },
    {
      "cell_type": "code",
      "source": [
        "fields = ['stop', 'near_stops']\n",
        "\n",
        "with open(\"near.csv\", \"w\", newline=\"\") as file:\n",
        "    write = csv.writer(file)\n",
        "    write.writerow(fields)\n",
        "    write.writerows(near_stops)"
      ],
      "metadata": {
        "id": "vqE3ssN63Gr4"
      },
      "execution_count": null,
      "outputs": []
    }
  ]
}