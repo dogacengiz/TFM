{
 "nbformat": 4,
 "nbformat_minor": 0,
 "metadata": {
  "colab": {
   "name": "Untitled7.ipynb",
   "provenance": [],
   "collapsed_sections": []
  },
  "kernelspec": {
   "name": "python3",
   "display_name": "Python 3"
  },
  "language_info": {
   "name": "python"
  }
 },
 "cells": [
  {
   "cell_type": "code",
   "execution_count": null,
   "outputs": [],
   "source": [
    "import pandas as pd\n",
    "import numba as nb\n",
    "import numpy as np\n",
    "import re\n",
    "import ast"
   ],
   "metadata": {
    "collapsed": false,
    "pycharm": {
     "name": "#%%\n"
    }
   }
  },
  {
   "cell_type": "markdown",
   "source": [
    "## Reading the bus stop and train station datasets\n",
    "\n",
    "*   The necessary columns of the datasets are read into Pandas dataframes. \n",
    "\n",
    ">*   stationInfo dataset: Each row in this dataset contains information on each train station that is on tramway, Cercanías, or metro network. The columns used;\n",
    "\n",
    ">>*  CODIGOMUNICIPIO: The identification code of the districts.\n",
    ">>*  DENOMINAPARADA: The name of the train station.\n",
    ">>*  DPAYPOINT: The code of the payment point device.\n",
    ">>*  LATITUD: Latitude of the train station.\n",
    ">>*  LONGITUD: Longitude of the train station.\n",
    "\n",
    "\n",
    "\n",
    "\n",
    ">*   stopInfo dataset: This dataset contains information on all the bus stops in Madrid metropolitan area. The columns used;\n",
    "\n",
    ">>*  CODIGOMUNICIPIO: The identification code of the districts.\n",
    ">>*  DPAYPOINT: The code of the payment point device.\n",
    ">>*  LATITUD: Latitude of the bus stop.\n",
    ">>*  LONGITUD: Longitude of the bus stop.\n",
    ">>*  IDLINEA: The identification number of the bus (bus number)\n",
    "\n",
    "\n",
    "\n",
    "Processing:\n",
    "*   Bus stops without IDLINEA value are removed.\n",
    "*   'type' column is created to store type of the transportation.\n",
    ">* 0 = Rail\n",
    ">* 1 = Bus\n",
    "*   Two datasets are concatenated to create allUStopDf data frame.\n",
    "*   allUniqueStopDf data frame is obtained by eliminating the records that have same location and transportation type to have info for each unique stops.\n",
    "*   The index of the data frame is assigned to the IDSTOP column."
   ],
   "metadata": {
    "collapsed": false
   }
  },
  {
   "cell_type": "code",
   "execution_count": null,
   "outputs": [],
   "source": [
    "railStopDf = pd.read_csv('stationInfo.csv', usecols=['LATITUD', 'LONGITUD', 'DPAYPOINT', 'DENOMINAPARADA', 'CODIGOMUNICIPIO'])\n",
    "railStopDf['type'] = 0\n",
    "\n",
    "busStopDf = pd.read_csv('stopInfo.csv', usecols=['LATITUD', 'LONGITUD', 'DPAYPOINT', 'IDLINEA', 'CODIGOMUNICIPIO'])\n",
    "busStopDf = busStopDf[busStopDf['IDLINEA'].notna()]\n",
    "busStopDf['type'] = 1\n",
    "\n",
    "allStopDf = pd.concat([railStopDf, busStopDf], ignore_index=True)\n",
    "allUniqueStopDf = allStopDf.drop_duplicates(subset=['LATITUD','LONGITUD','type'], keep=\"first\")\n",
    "allUniqueStopDf = allUniqueStopDf.reset_index(drop=True)\n",
    "allUniqueStopDf['IDSTOP'] = allUniqueStopDf.index\n",
    "allUniqueStopDf\n"
   ],
   "metadata": {
    "collapsed": false,
    "pycharm": {
     "name": "#%%\n"
    }
   }
  },
  {
   "cell_type": "markdown",
   "source": [
    "allPaypointDf is created by merging allStopDf and allUniqueStopDf. Thereby, the IDSTOP values are assigned to each record with different payment point (DPAYPOINT)."
   ],
   "metadata": {
    "collapsed": false
   }
  },
  {
   "cell_type": "code",
   "execution_count": null,
   "outputs": [],
   "source": [
    "allPaypointDf = pd.merge(allStopDf, allUniqueStopDf[['LATITUD', 'LONGITUD', 'IDSTOP']], on=['LATITUD', 'LONGITUD'], how='left')\n",
    "allPaypointDf = allPaypointDf.sort_values(['IDSTOP'], ascending=[True])\n",
    "allPaypointDf"
   ],
   "metadata": {
    "collapsed": false,
    "pycharm": {
     "name": "#%%\n"
    }
   }
  },
  {
   "cell_type": "markdown",
   "source": [
    "\n",
    "### Smart Card Transaction Dataset\n",
    "\n",
    "Dataset is formed by the smart card information of the passenger as well as the data of the boarding transportation mode. The transaction records dataset is limited to the records of the users with senior smart card profiles. \n",
    "*   cardID: This attribute is the hashed version of the smart card serial number. This identification number is unique for each card. The CRTM provided the dataset with the encoded card IDs and the hash function is not given in order to avoid any privacy and confidentiality of users.\n",
    "*  date: The date of the transaction with the format of year-month-day hour-min-\n",
    "sec.\n",
    "*  DPAYPOINT: The code of the payment point device. (Same as the DPAYPOINT\n",
    "column of the train stations, and bus stop tables.)\n",
    "\n",
    "Processing:\n",
    "*   Data id read into the usersDf data frame.\n",
    "*   'date' column set as datetime.\n",
    "*   Desired time interval is selected to filter the data frame.\n",
    "*   Single transaction records are removed by counting the occurrence of the cardID value.\n",
    "*   usersDf is merged with the allPaypointDf to obtain a data frame with transaction records and the information on the noarding atop of the record.\n",
    "*   The records have the same cardID and date are removed.\n",
    "*   Lastly, all the stops are sorted by respectively according to cardID and date values."
   ],
   "metadata": {
    "collapsed": false
   }
  },
  {
   "cell_type": "code",
   "execution_count": null,
   "outputs": [],
   "source": [
    "usersDf = pd.read_csv('transactionData.txt', sep='#', engine='python', usecols=[0,1,2])\n",
    "usersDf.columns = ['cardID', 'date', 'DPAYPOINT']\n",
    "usersDf['date'] = pd.to_datetime(usersDf['date'])\n",
    "usersDf = usersDf[(usersDf['date'] > '2020-02-01 04:00:00') & (usersDf['date'] < '2020-02-02 03:59:59')]\n",
    "print('Full dataset size: ', len(usersDf))\n",
    "\n",
    "\n",
    "v = usersDf.cardID.value_counts()\n",
    "usersDf = usersDf[usersDf['cardID'].isin(v.index[v.gt(1)])]\n",
    "\n",
    "usersDf = pd.merge(left=usersDf, right=allPaypointDf, how='inner', left_on='DPAYPOINT', right_on='DPAYPOINT')\n",
    "usersDf = usersDf[usersDf['LATITUD'].notna()]\n",
    "usersDf = usersDf.drop_duplicates(subset=['cardID','date'], keep=\"first\")\n",
    "print('Dataset size after removing the single transactions: ', len(usersDf))\n",
    "\n",
    "usersDf = usersDf.sort_values(['cardID', 'date'], ascending=[True, True]).reset_index(drop=True)\n",
    "usersDf"
   ],
   "metadata": {
    "collapsed": false,
    "pycharm": {
     "name": "#%%\n"
    }
   }
  },
  {
   "cell_type": "markdown",
   "source": [
    "###Lines dataset\n",
    "This dataset contains the station name and a list of line numbers for that station.\n",
    "\n",
    "Procesing: \n",
    "*   lines.csv is read into linesRailDf.\n",
    "*   The apperance of the data frame is editted to obtain more suitable one.\n",
    "*   The same data frame is created for the bus stops by grouping the IDLINEA column with the stop ID.\n",
    "*   allStopsWithLinesOnly data frame is generated by concatinating these two data frames.\n",
    "\n"
   ],
   "metadata": {
    "collapsed": false
   }
  },
  {
   "cell_type": "code",
   "execution_count": null,
   "outputs": [],
   "source": [
    "linesRailDf = pd.read_csv('lines.csv', names=[\"DENOMINAPARADA\", \"lines\"])\n",
    "for row in range(len(linesRailDf)):\n",
    "    linesRailDf.iat[row,1] = linesRailDf.iat[row,1].split(\";\")\n",
    "\n",
    "linesBusDf = allPaypointDf[allPaypointDf['type'] == 1].groupby('IDSTOP')['IDLINEA'].apply(list).to_frame()\n",
    "linesBusDf = linesBusDf.rename(columns = {'IDLINEA':'lines'})\n",
    "linesBusDf = linesBusDf.reset_index()\n",
    "\n",
    "merged_linesRailDf = pd.merge(linesRailDf, allPaypointDf[['IDSTOP', 'DENOMINAPARADA']], how='left', right_on='DENOMINAPARADA', left_on='DENOMINAPARADA')\n",
    "allStopWithLinesOnly = pd.concat([merged_linesRailDf, linesBusDf], ignore_index=True)\n",
    "allStopWithLinesOnly"
   ],
   "metadata": {
    "collapsed": false,
    "pycharm": {
     "name": "#%%\n"
    }
   }
  },
  {
   "cell_type": "code",
   "execution_count": null,
   "outputs": [],
   "source": [
    "allStopWithLines = pd.merge(left=allPaypointDf, right=allStopWithLinesOnly, how='left', left_on='IDSTOP', right_on='IDSTOP')\n",
    "allStopWithLines.head()\n"
   ],
   "metadata": {
    "collapsed": false,
    "pycharm": {
     "name": "#%%\n"
    }
   }
  },
  {
   "cell_type": "markdown",
   "source": [
    "### Near stops data frame\n",
    "\n",
    "This data frame is generated with the nearStop.py file. It contains nearStops column that store a list of stops which are located in a 650 meter radius circle of the stop in the first column.\n",
    "\n",
    "Processing:\n",
    "*   The format of the csv created is changed for better presentation and applicaiton as well as the type of the columns."
   ],
   "metadata": {
    "collapsed": false
   }
  },
  {
   "cell_type": "code",
   "execution_count": null,
   "outputs": [],
   "source": [
    "nearStopDf = pd.read_csv('near.csv')\n",
    "nearStopDf['stop'] = nearStopDf['stop'].str.strip(\"[]\").astype(float)\n",
    "nearStopDf.head()"
   ],
   "metadata": {
    "collapsed": false,
    "pycharm": {
     "name": "#%%\n"
    }
   }
  },
  {
   "cell_type": "markdown",
   "source": [
    "A function called distance_calculate is created to calculate the distance between two points by using the latitude and longitude pairs of these locations. The result returns in meters."
   ],
   "metadata": {
    "collapsed": false
   }
  },
  {
   "cell_type": "code",
   "execution_count": null,
   "outputs": [],
   "source": [
    "def distance_calculate(lat1_input,lat2_input,lon1_input,lon2_input):\n",
    "  lon1 = np.radians(lon1_input)\n",
    "  lon2 = np.radians(lon2_input)\n",
    "  lat1 = np.radians(lat1_input)\n",
    "  lat2 = np.radians(lat2_input)\n",
    "      \n",
    "  dlon = lon2 - lon1\n",
    "  dlat = lat2 - lat1\n",
    "  a = np.sin(dlat / 2)**2 + np.cos(lat1) * np.cos(lat2) * np.sin(dlon / 2)**2\n",
    "  c = 2 * np.arcsin(np.sqrt(a))\n",
    "  r = 6371000\n",
    "  return c * r"
   ],
   "metadata": {
    "collapsed": false,
    "pycharm": {
     "name": "#%%\n"
    }
   }
  },
  {
   "cell_type": "markdown",
   "source": [
    "Another function called isin_list is created to check if two lists have any elements in common. Returns a boolean."
   ],
   "metadata": {
    "collapsed": false
   }
  },
  {
   "cell_type": "code",
   "execution_count": null,
   "outputs": [],
   "source": [
    "def isin_list(list1, list2):\n",
    "  isin = False\n",
    "  for item in range(len(list1)):\n",
    "    if list1[item] in list2:\n",
    "      isin = True\n",
    "      break \n",
    "  return isin"
   ],
   "metadata": {
    "collapsed": false,
    "pycharm": {
     "name": "#%%\n"
    }
   }
  },
  {
   "cell_type": "markdown",
   "source": [
    "# Transfer Types"
   ],
   "metadata": {
    "collapsed": false
   }
  },
  {
   "cell_type": "markdown",
   "source": [
    "### Train-to-train transfer detection algorithm\n",
    "transferRail() function is created to detect transfers between two consecutive transctions.\n",
    "\n",
    "\n",
    "Process:\n",
    "\n",
    "\n",
    "*   The given record is saved into a dataframe and the 'date' column type set as datetime. \n",
    "*   actualTimeDiff: The time difference between these given 2 consecutive rides.\n",
    "*   currentLineList: The list of the lines passes throught the first boarding stop.\n",
    "*   nextLineList: The list of the lines passes throught the second boarding stop.\n",
    "*   dist: The distance between 2 boarding locations.\n",
    "\n",
    "Cases:\n",
    "\n",
    "It is checked if currentLineList and nextLineList have a common element.\n",
    ">If yes, maxTime is calculated by the given equation. \n",
    ">>Transfer detected if actualTimeDiff < maxTime. \n",
    "\n",
    ">If no, nearStop list is checked for the second boarding station to find candidate transfer stations.\n",
    ">>If a candidate station is found, the maxTime variable is calculated for it. \n",
    ">>> Transfer detected if actualTimeDiff < maxTime. \n",
    "\n",
    ">> If no candidate station is found, the same operator transfer is considered and maxTime is calculated based on that. \n",
    ">>> Transfer detected if actualTimeDiff < maxTime.\n",
    "\n",
    "\n",
    "\n",
    "\n",
    "\n",
    "\n"
   ],
   "metadata": {
    "collapsed": false
   }
  },
  {
   "cell_type": "code",
   "execution_count": null,
   "outputs": [],
   "source": [
    "# 1. Rail-Rail\n",
    "def transferRail(cardID, usersDf, record):\n",
    "  transfer = False\n",
    "  dest_stop = -2\n",
    "  maxTime = 0\n",
    "  recordDf = record\n",
    "  recordDf[\"date\"] = pd.to_datetime(recordDf[\"date\"])\n",
    "  \n",
    "  actualTimeDiff = (recordDf.iloc[1,1] - recordDf.iloc[0,1]).seconds/60\n",
    "  currentLineList = linesRailDf[linesRailDf.DENOMINAPARADA == recordDf.iloc[0,3]].iat[0,1]\n",
    "  nextLineList  = linesRailDf[linesRailDf.DENOMINAPARADA == recordDf.iloc[1,3]].iat[0,1]\n",
    "\n",
    "  lat1 = recordDf.iloc[0,4]\n",
    "  lon1 = recordDf.iloc[0,5]\n",
    "  lat2 = recordDf.iloc[1,4]\n",
    "  lon2 = recordDf.iloc[1,5]\n",
    "  dist = distance_calculate(lat1,lat2,lon1,lon2) \n",
    "\n",
    "  if isin_list(currentLineList, nextLineList):\n",
    "    maxTime = dist/500 + 5 + 10 \n",
    "    if actualTimeDiff < maxTime:\n",
    "      transfer = True\n",
    "\n",
    "  else: \n",
    "    bufferZoneList = nearStopDf[nearStopDf['stop'] == recordDf.iloc[1,8]].iat[0,1]\n",
    "    bufferZoneList = ast.literal_eval(bufferZoneList)\n",
    "\n",
    "    for station in bufferZoneList:\n",
    "      float(station)\n",
    "      typeOfTransport = allUniqueStopDf[allUniqueStopDf['IDSTOP'] == station].iat[0,4]\n",
    "\n",
    "      if typeOfTransport == 0:\n",
    "        currentCandLineDf = allStopWithLinesOnly[allStopWithLinesOnly.IDSTOP == station]\n",
    "        if len(currentCandLineDf) > 0:\n",
    "          currentCandList = currentCandLineDf.iat[0,1]\n",
    "\n",
    "          if isin_list(currentCandList, nextLineList):\n",
    "            dest_stop = station\n",
    "            cand_lat2 = allUniqueStopDf[allUniqueStopDf.IDSTOP == station].iat[0,1]\n",
    "            cand_lon2 = allUniqueStopDf[allUniqueStopDf.IDSTOP == station].iat[0,2]\n",
    "            can_dist = distance_calculate(lat1, cand_lat2, lon1, cand_lon2)\n",
    "            walking_dist = distance_calculate(cand_lat2,lat2,cand_lon2,lon2)\n",
    "            maxTime = (can_dist/500) + 5 + (walking_dist/50) + 10 \n",
    "\n",
    "          else:\n",
    "            maxTime = dist/500 + 5 + 20 \n",
    "\n",
    "        if actualTimeDiff < maxTime:\n",
    "          transfer = True\n",
    "          break\n",
    "\n",
    "  return transfer, dest_stop\n"
   ],
   "metadata": {
    "collapsed": false,
    "pycharm": {
     "name": "#%%\n"
    }
   }
  },
  {
   "cell_type": "markdown",
   "source": [
    "### Bus-to-bus transfer detection algorithm\n",
    "transferBus() function is created to detect transfers between two consecutive transctions.\n",
    "\n",
    "\n",
    "Process:\n",
    "\n",
    "\n",
    "*   The given record is saved into a dataframe and the 'date' column type set as datetime. \n",
    "*   actualTimeDiff: The time difference between these given 2 consecutive rides.\n",
    "*   currentLine: The line of the first bus.\n",
    "\n",
    "Cases:\n",
    "\n",
    "\n",
    ">nearStop list is checked for the second boarding stop to find candidate transfer stop.\n",
    ">>If a candidate stop is found, the maxTime variable is calculated for it. \n",
    ">>> Transfer detected if actualTimeDiff < maxTime. \n",
    "\n",
    ">> If no candidate stop is found, there is no transfer.\n"
   ],
   "metadata": {
    "collapsed": false
   }
  },
  {
   "cell_type": "code",
   "execution_count": null,
   "outputs": [],
   "source": [
    "# 2. Bus-Bus\n",
    "def transferBus(cardID, usersDf, record):\n",
    "  transfer = False\n",
    "  dest_stop = -2\n",
    "  recordDf = record\n",
    "  recordDf[\"date\"] = pd.to_datetime(recordDf[\"date\"])\n",
    "\n",
    "  if record.iat[0, 7] != record.iat[1, 7]: \n",
    "    actualTimeDiff = (recordDf.iloc[1,1] - recordDf.iloc[0,1]).seconds/60\n",
    "    currentLine = recordDf.iloc[0,7]\n",
    "    lat1 = recordDf.iloc[0,4]\n",
    "    lon1 = recordDf.iloc[0,5]\n",
    "    lat2 = recordDf.iloc[1,4]\n",
    "    lon2 = recordDf.iloc[1,5]\n",
    "\n",
    "    bufferZoneList = nearStopDf[nearStopDf['stop'] == recordDf.iloc[1,8]].iat[0,1]\n",
    "    bufferZoneList = ast.literal_eval(bufferZoneList)\n",
    "\n",
    "    for stop in bufferZoneList:\n",
    "      float(stop)\n",
    "      typeOfTransport = allUniqueStopDf[allUniqueStopDf['IDSTOP'] == stop].iat[0,4]\n",
    "\n",
    "      if typeOfTransport == 1:\n",
    "        candStopBusLineDf = allStopWithLinesOnly[allStopWithLinesOnly.IDSTOP == stop]\n",
    "    \n",
    "        if len(candStopBusLineDf) > 0:\n",
    "          candStopBusLineList = candStopBusLineDf.iat[0,1]\n",
    "  \n",
    "          if currentLine in candStopBusLineList:\n",
    "            dest_stop = stop\n",
    "            cand_lat2 = allUniqueStopDf[allUniqueStopDf.IDSTOP == stop].iat[0,1]\n",
    "            cand_lon2 = allUniqueStopDf[allUniqueStopDf.IDSTOP == stop].iat[0,2]\n",
    "            can_dist = distance_calculate(lat1, cand_lat2, lon1, cand_lon2)\n",
    "            walking_dist = distance_calculate(cand_lat2,lat2,cand_lon2,lon2)\n",
    "            maxTime = (can_dist/250) + 10 + (walking_dist/50)\n",
    "  \n",
    "\n",
    "            if actualTimeDiff < maxTime:\n",
    "              transfer = True\n",
    "              break\n",
    "\n",
    "  return transfer, dest_stop"
   ],
   "metadata": {
    "collapsed": false,
    "pycharm": {
     "name": "#%%\n"
    }
   }
  },
  {
   "cell_type": "markdown",
   "source": [
    "### Train-to-bus transfer detection algorithm\n",
    "transferRailBus() function is created to detect transfers between two consecutive transctions.\n",
    "\n",
    "\n",
    "Process:\n",
    "\n",
    "\n",
    "*   The given record is saved into a dataframe and the 'date' column type set as datetime. \n",
    "*   actualTimeDiff: The time difference between these given 2 consecutive rides.\n",
    "*   currentLineList: List of the lines passes through the first boardin station.\n",
    "\n",
    "Cases:\n",
    "\n",
    ">nearStop list is checked for the second boarding stop to find candidate station could be arrived by using the first train.\n",
    ">>If a candidate station is found, the maxTime variable is calculated for it. \n",
    ">>> Transfer detected if actualTimeDiff < maxTime. \n",
    "\n",
    ">> If no candidate station is found, there is no transfer."
   ],
   "metadata": {
    "collapsed": false
   }
  },
  {
   "cell_type": "code",
   "execution_count": null,
   "outputs": [],
   "source": [
    "def transferRailBus(cardID, usersDf, record):\n",
    "  transfer = False\n",
    "  dest_stop = -2\n",
    "  recordDf = record\n",
    "  recordDf[\"date\"] = pd.to_datetime(recordDf[\"date\"])\n",
    "\n",
    "  actualTimeDiff = (recordDf.iloc[1,1] - recordDf.iloc[0,1]).seconds/60\n",
    "  currentLineList = linesRailDf[linesRailDf.DENOMINAPARADA == recordDf.iloc[0,3]].iat[0,1]\n",
    "  lat1 = recordDf.iloc[0,4]\n",
    "  lon1 = recordDf.iloc[0,5]\n",
    "  nextBoardingStopID = recordDf.iat[0,8]\n",
    "  lat2 = recordDf.iat[1, 4]\n",
    "  lon2 = recordDf.iat[1, 5]\n",
    "\n",
    "  bufferZoneList = nearStopDf[nearStopDf['stop'] == nextBoardingStopID].iat[0,1]\n",
    "  bufferZoneList = ast.literal_eval(bufferZoneList)\n",
    "\n",
    "  for station in bufferZoneList:\n",
    "    float(station)\n",
    "    typeOfTransport = allUniqueStopDf[allUniqueStopDf['IDSTOP'] == station].iat[0,4]\n",
    "\n",
    "    if typeOfTransport == 0:\n",
    "      candStationLineDf = allStopWithLinesOnly[allStopWithLinesOnly.IDSTOP == station]\n",
    "\n",
    "      if len(candStationLineDf) > 0:\n",
    "        candStationLineList = candStationLineDf.iat[0,1]\n",
    "        \n",
    "        if isin_list(currentLineList, candStationLineList):\n",
    "          dest_stop = station\n",
    "          cand_lat2 = allUniqueStopDf[allUniqueStopDf.IDSTOP == station].iat[0,1]\n",
    "          cand_lon2 = allUniqueStopDf[allUniqueStopDf.IDSTOP == station].iat[0,2]\n",
    "          can_dist = distance_calculate(lat1, cand_lat2, lon1, cand_lon2)\n",
    "          walking_dist = distance_calculate(cand_lat2,lat2,cand_lon2,lon2)       \n",
    "          maxTime =  (can_dist/500) + (walking_dist/50) + 10 + 10 + 5\n",
    "\n",
    "          if actualTimeDiff < maxTime:\n",
    "            transfer = True\n",
    "            break\n",
    "\n",
    "  return transfer, dest_stop"
   ],
   "metadata": {
    "collapsed": false,
    "pycharm": {
     "name": "#%%\n"
    }
   }
  },
  {
   "cell_type": "markdown",
   "source": [
    "### Bus-to-train transfer detection algorithm\n",
    "transferBusRail() function is created to detect transfers between two consecutive transctions.\n",
    "\n",
    "\n",
    "Process:\n",
    "\n",
    "\n",
    "*   The given record is saved into a dataframe and the 'date' column type set as datetime. \n",
    "*   actualTimeDiff: The time difference between these given 2 consecutive rides.\n",
    "*   currentLine: The line of the first boarding.\n",
    "\n",
    "Cases:\n",
    "\n",
    ">nearStop list is checked for the second boarding station to find candidate stop could be arrived by using the first bus.\n",
    ">>If a candidate stop is found, the maxTime variable is calculated for it. \n",
    ">>> Transfer detected if actualTimeDiff < maxTime. \n",
    "\n",
    ">> If no candidate stop is found, there is no transfer."
   ],
   "metadata": {
    "collapsed": false
   }
  },
  {
   "cell_type": "code",
   "execution_count": null,
   "outputs": [],
   "source": [
    "def transferBusRail(cardID, usersDf, record):\n",
    "  transfer = False\n",
    "  dest_stop = -2\n",
    "  recordDf = record\n",
    "  recordDf[\"date\"] = pd.to_datetime(recordDf[\"date\"])\n",
    "\n",
    "  actualTimeDiff = (recordDf.iloc[1,1] - recordDf.iloc[0,1]).seconds/60\n",
    "  currentLine = recordDf.iloc[0,7]\n",
    "\n",
    "  lat1 = recordDf.iloc[0,4]\n",
    "  lon1 = recordDf.iloc[0,5]\n",
    "  lat2 = recordDf.iloc[1,4]\n",
    "  lon2 = recordDf.iloc[1,5]\n",
    "\n",
    "  bufferZoneList = nearStopDf[nearStopDf['stop'] == recordDf.iloc[1,8]].iat[0,1]\n",
    "  bufferZoneList = ast.literal_eval(bufferZoneList)\n",
    "\n",
    "  for stop in bufferZoneList:\n",
    "    float(stop)\n",
    "    typeOfTransport = allUniqueStopDf[allUniqueStopDf['IDSTOP'] == stop].iat[0,4]\n",
    "\n",
    "    if typeOfTransport == 1:\n",
    "      candStopBusLineDf = allStopWithLinesOnly[allStopWithLinesOnly.IDSTOP == stop]\n",
    "\n",
    "      if len(candStopBusLineDf) > 0:\n",
    "        candStopBusLineList = candStopBusLineDf.iat[0,1]\n",
    "      \n",
    "        if currentLine in candStopBusLineList:\n",
    "          dest_stop = stop\n",
    "          cand_lat2 = allStopWithLines[allStopWithLines.IDSTOP == stop].iat[0,1]\n",
    "          cand_lon2 = allStopWithLines[allStopWithLines.IDSTOP == stop].iat[0,2]\n",
    "          can_dist = distance_calculate(lat1, cand_lat2, lon1, cand_lon2)\n",
    "          walking_dist = distance_calculate(cand_lat2,lat2,cand_lon2,lon2)\n",
    "\n",
    "          maxTime = (can_dist/250) + (walking_dist/50)\n",
    "          if actualTimeDiff < maxTime:\n",
    "            \n",
    "            transfer = True\n",
    "            break\n",
    "\n",
    "  return transfer, dest_stop"
   ],
   "metadata": {
    "collapsed": false,
    "pycharm": {
     "name": "#%%\n"
    }
   }
  },
  {
   "cell_type": "markdown",
   "source": [
    "# Destination estimation\n",
    "\n",
    "Process:\n",
    "\n",
    "*   Each consecutive transaction record in the usersDf is checked:\n",
    "> If they are belonging to the same smart card.\n",
    ">> If no (which means the record of one user read full and the for loop passed to the next user)\n",
    ">>>Depending of the first and the last boarding transportation mode, the final destination of the dat for the passenger is searched. Similar to the transfer detection algorithms, the zone around the first boarding location is scanned to find a stop/station that can be reached with the last boarding vehicle. \n",
    "\n",
    ">> If yes (which means the for loop is still in the same user as the previous iteration)\n",
    ">>> Depending of the first and the last boarding transportation mode, \n",
    ">>>>*   The transfer detection algoruthm runs. The boolean value for the transfer is saved to transfer column.\n",
    ">>>>*   The destination is obtained from the transfer function without checking the time, only considering the distance."
   ],
   "metadata": {
    "collapsed": false
   }
  },
  {
   "cell_type": "code",
   "execution_count": null,
   "outputs": [],
   "source": [
    "cardID_first = usersDf.iloc[0, 0]\n",
    "transferList = []\n",
    "destinationList = []\n",
    "\n",
    "count = 0 \n",
    "for transaction in range(len(usersDf)-1):\n",
    "  destination = -1\n",
    "  transfer = False\n",
    "  cardID_second = usersDf.iloc[transaction+1, 0]\n",
    "\n",
    "  if(cardID_second != cardID_first):\n",
    "    firstTripStopID = usersDf.iloc[transaction-count, 8]\n",
    "\n",
    "    if (usersDf.iloc[transaction-count, 6] == 0 and usersDf.iloc[transaction, 6] == 0) and (firstTripStopID != usersDf.iloc[transaction, 8]):\n",
    "      currentLineList = allStopWithLines[allStopWithLines.IDSTOP == firstTripStopID].iat[0,-1]\n",
    "      nextLineList  = allStopWithLines[allStopWithLines.IDSTOP == usersDf.iloc[transaction,8]].iat[0,-1]\n",
    "      if isin_list(currentLineList, nextLineList):\n",
    "        destination = firstTripStopID\n",
    "      else: \n",
    "        nearList = ast.literal_eval(nearStopDf[nearStopDf['stop'] == firstTripStopID].iat[0,1])\n",
    "        for station in nearList:\n",
    "          if allStopWithLines[allStopWithLines.IDSTOP == station].iat[0, 4] == 0:\n",
    "            currentLineList = allStopWithLines[allStopWithLines.IDSTOP == station].iat[0,-1]\n",
    "            if isin_list(nextLineList, currentLineList):\n",
    "              destination = firstTripStopID\n",
    "              break\n",
    "\n",
    "    if (usersDf.iloc[transaction-count, 6] == 1 and usersDf.iloc[transaction, 6] == 1) and (firstTripStopID != usersDf.iloc[transaction, 8]):\n",
    "        firstLine = usersDf.iloc[transaction-count, 7]\n",
    "        lastLine  = usersDf.iloc[transaction, 7]\n",
    "        if firstLine == lastLine:\n",
    "          destination = firstTripStopID\n",
    "        else: \n",
    "          nearList = ast.literal_eval(nearStopDf[nearStopDf['stop'] == firstTripStopID].iat[0,1])\n",
    "          for stop in nearList:\n",
    "            if allStopWithLines[allStopWithLines.IDSTOP == stop].iat[0, 4] == 1:\n",
    "              bufferLineList = allStopWithLines[allStopWithLines.IDSTOP == stop].iat[0,-1]\n",
    "              if lastLine in bufferLineList:\n",
    "                destination = firstTripStopID\n",
    "                break\n",
    "\n",
    "    if (usersDf.iloc[transaction-count, 6] == 1 and usersDf.iloc[transaction, 6] == 0):\n",
    "        currentLine = usersDf.iloc[transaction-count, 7]\n",
    "        nextLineList  = allStopWithLines[allStopWithLines.IDSTOP == usersDf.iloc[transaction, 8]].iat[0,-1]\n",
    "        nearList = ast.literal_eval(nearStopDf[nearStopDf['stop'] == firstTripStopID].iat[0,1])\n",
    "        for station in nearList:\n",
    "          if allStopWithLines[allStopWithLines.IDSTOP == station].iat[0, 4] == 0:\n",
    "            currentLineList = allStopWithLines[allStopWithLines.IDSTOP == station].iat[0,-1]\n",
    "            if isin_list(nextLineList, currentLineList):\n",
    "              destination = firstTripStopID\n",
    "              break\n",
    "\n",
    "    if (usersDf.iloc[transaction-count, 6] == 0 and usersDf.iloc[transaction, 6] == 1):\n",
    "        currentLineList = allStopWithLines[allStopWithLines.IDSTOP == usersDf.iloc[transaction-count, 8]].iat[0,-1]\n",
    "        nextLine = usersDf.iloc[transaction, 7] \n",
    "        nearList = ast.literal_eval(nearStopDf[nearStopDf['stop'] == firstTripStopID].iat[0,1])\n",
    "        for stop in nearList:\n",
    "          if allStopWithLines[allStopWithLines.IDSTOP == stop].iat[0, 4] == 1:\n",
    "            currentLineList = allStopWithLines[allStopWithLines.IDSTOP == stop].iat[0,-1]\n",
    "            if isin_list(nextLine, currentLineList):               \n",
    "              destination = firstTripStopID\n",
    "              break\n",
    "\n",
    "    \n",
    "    cardID_first = cardID_second\n",
    "    count = 0 \n",
    "  else:\n",
    "    count += 1\n",
    "    record = usersDf.iloc[[transaction, transaction+1]]\n",
    "    if usersDf.iloc[transaction, 6] == 0 and usersDf.iloc[transaction+1, 6] == 0:\n",
    "      transfer, destination = transferRail(cardID_second, usersDf, record)\n",
    "    elif usersDf.iloc[transaction, 6] == 1 and usersDf.iloc[transaction+1, 6] == 1:\n",
    "      transfer, destination = transferBus(cardID_second, usersDf, record)\n",
    "    elif usersDf.iloc[transaction, 6] == 0 and usersDf.iloc[transaction+1, 6] == 1:\n",
    "      transfer, destination = transferRailBus(cardID_second, usersDf, record)\n",
    "    elif usersDf.iloc[transaction, 6] == 1 and usersDf.iloc[transaction+1, 6] == 0:\n",
    "      transfer, destination = transferBusRail(cardID_second, usersDf, record)\n",
    "\n",
    "  transferList.append(transfer)\n",
    "  destinationList.append(destination)\n",
    "\n",
    "transferList.append(False)\n",
    "destinationList.append(-2)\n",
    "usersDf.insert(9, 'transfer', transferList)\n",
    "usersDf.insert(10, 'destination', destinationList)\n",
    "\n"
   ],
   "metadata": {
    "collapsed": false,
    "pycharm": {
     "name": "#%%\n"
    }
   }
  },
  {
   "cell_type": "markdown",
   "source": [
    "OD Matrix created for the specified time interval is saved as csv to use later without running the previous steps."
   ],
   "metadata": {
    "collapsed": false
   }
  },
  {
   "cell_type": "code",
   "execution_count": null,
   "outputs": [],
   "source": [
    "from google.colab import files\n",
    "usersDf.to_csv('ODMatrix_Feb1_04.csv', encoding = 'utf-8-sig')\n"
   ],
   "metadata": {
    "collapsed": false,
    "pycharm": {
     "name": "#%%\n"
    }
   }
  }
 ]
}